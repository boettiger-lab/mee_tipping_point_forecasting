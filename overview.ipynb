{
 "cells": [
  {
   "cell_type": "code",
   "execution_count": 1,
   "metadata": {},
   "outputs": [],
   "source": [
    "from darts import TimeSeries\n"
   ]
  },
  {
   "cell_type": "code",
   "execution_count": null,
   "metadata": {},
   "outputs": [],
   "source": [
    "\n",
    "from model import tipping_point\n",
    "tp = tipping_point()\n",
    "tp.collect_samples(10)\n",
    "tp.plot('fig.png')"
   ]
  },
  {
   "cell_type": "code",
   "execution_count": 5,
   "metadata": {},
   "outputs": [],
   "source": [
    "import pandas as pd\n",
    "import numpy as np\n",
    "import os\n",
    "import sys\n",
    "sys.path.append(\"../\")\n",
    "import matplotlib\n",
    "matplotlib.use(\"Agg\")\n",
    "import matplotlib.pyplot as plt\n",
    "from model import tipping_point\n",
    "from darts import TimeSeries\n",
    "import torch\n",
    "from darts.models import RNNModel, TCNModel, TransformerModel\n",
    "from darts.utils.likelihood_models import LaplaceLikelihood\n",
    "from my_agents.utils import preprocessed_t_series, truth_dist\n",
    "import argparse\n",
    "import yaml\n"
   ]
  },
  {
   "cell_type": "code",
   "execution_count": 10,
   "metadata": {},
   "outputs": [],
   "source": [
    "class Settings:\n",
    "    model = \"lstm\"\n",
    "    n_samples = 1000\n",
    "    output_file_name = \"trash\"\n",
    "    plot = True\n",
    "    seed = 42\n",
    "args = Settings()    \n"
   ]
  },
  {
   "cell_type": "code",
   "execution_count": 11,
   "metadata": {},
   "outputs": [
    {
     "name": "stderr",
     "output_type": "stream",
     "text": [
      "[2022-04-01 20:18:08,768] WARNING | darts.models.forecasting.torch_forecasting_model | DeprecationWarning: `torch_device_str` is deprecated and will be removed in a coming Darts version. For full support of all torch devices, use PyTorch-Lightnings trainer flags and pass them inside `pl_trainer_kwargs`. Flags of interest are {`accelerator`, `gpus`, `auto_select_gpus`, `devices`}. For more information, visit https://pytorch-lightning.readthedocs.io/en/stable/common/trainer.html#trainer-flags\n",
      "[2022-04-01 20:18:08,768] WARNING | darts.models.forecasting.torch_forecasting_model | DeprecationWarning: `torch_device_str` is deprecated and will be removed in a coming Darts version. For full support of all torch devices, use PyTorch-Lightnings trainer flags and pass them inside `pl_trainer_kwargs`. Flags of interest are {`accelerator`, `gpus`, `auto_select_gpus`, `devices`}. For more information, visit https://pytorch-lightning.readthedocs.io/en/stable/common/trainer.html#trainer-flags\n",
      "[2022-04-01 20:18:08,769] INFO | darts.models.forecasting.torch_forecasting_model | Train dataset contains 226 samples.\n",
      "[2022-04-01 20:18:08,769] INFO | darts.models.forecasting.torch_forecasting_model | Train dataset contains 226 samples.\n",
      "/home/cboettig/boettiger-lab/mee_tipping_point_forecasting/venv/lib/python3.8/site-packages/torch/nn/modules/rnn.py:62: UserWarning: dropout option adds dropout after all but last recurrent layer, so non-zero dropout expects num_layers greater than 1, but got dropout=0.5 and num_layers=1\n",
      "  warnings.warn(\"dropout option adds dropout after all but last \"\n",
      "[2022-04-01 20:18:08,779] INFO | darts.models.forecasting.torch_forecasting_model | Time series values are 64-bits; casting model to float64.\n",
      "[2022-04-01 20:18:08,779] INFO | darts.models.forecasting.torch_forecasting_model | Time series values are 64-bits; casting model to float64.\n",
      "[2022-04-01 20:18:08,797] WARNING | darts.models.forecasting.torch_forecasting_model | DeprecationWarning: kwarg `verbose` is deprecated and will be removed in a future Darts version. Instead, control verbosity with PyTorch Lightning Trainer parameters `enable_progress_bar`, `progress_bar_refresh_rate` and `enable_model_summary` in the `pl_trainer_kwargs` dict at model creation.\n",
      "[2022-04-01 20:18:08,797] WARNING | darts.models.forecasting.torch_forecasting_model | DeprecationWarning: kwarg `verbose` is deprecated and will be removed in a future Darts version. Instead, control verbosity with PyTorch Lightning Trainer parameters `enable_progress_bar`, `progress_bar_refresh_rate` and `enable_model_summary` in the `pl_trainer_kwargs` dict at model creation.\n",
      "GPU available: True, used: True\n",
      "TPU available: False, using: 0 TPU cores\n",
      "IPU available: False, using: 0 IPUs\n",
      "HPU available: False, using: 0 HPUs\n",
      "LOCAL_RANK: 0 - CUDA_VISIBLE_DEVICES: [0]\n",
      "\n",
      "  | Name      | Type    | Params\n",
      "--------------------------------------\n",
      "0 | criterion | MSELoss | 0     \n",
      "1 | rnn       | LSTM    | 17.2 K\n",
      "2 | V         | Linear  | 130   \n",
      "--------------------------------------\n",
      "17.3 K    Trainable params\n",
      "0         Non-trainable params\n",
      "17.3 K    Total params\n",
      "0.138     Total estimated model params size (MB)\n",
      "/home/cboettig/boettiger-lab/mee_tipping_point_forecasting/venv/lib/python3.8/site-packages/pytorch_lightning/trainer/trainer.py:1938: PossibleUserWarning: The number of training samples (3) is smaller than the logging interval Trainer(log_every_n_steps=50). Set a lower value for log_every_n_steps if you want to see logs for the training epoch.\n",
      "  rank_zero_warn(\n"
     ]
    },
    {
     "name": "stdout",
     "output_type": "stream",
     "text": [
      "Epoch 3:  33%|███▎      | 1/3 [00:00<00:00,  5.24it/s, loss=0.448, v_num=logs, train_loss=0.238]"
     ]
    },
    {
     "name": "stderr",
     "output_type": "stream",
     "text": [
      "/home/cboettig/boettiger-lab/mee_tipping_point_forecasting/venv/lib/python3.8/site-packages/pytorch_lightning/callbacks/model_checkpoint.py:378: UserWarning: `ModelCheckpoint(monitor='val_loss')` could not find the monitored key in the returned metrics: ['train_loss', 'epoch', 'step']. HINT: Did you call `log('val_loss', value)` in the `LightningModule`?\n",
      "  warning_cache.warn(m)\n"
     ]
    },
    {
     "name": "stdout",
     "output_type": "stream",
     "text": [
      "Epoch 199: 100%|██████████| 3/3 [00:10<00:00,  3.59s/it, loss=-2.97, v_num=logs, train_loss=-3.11]\n"
     ]
    },
    {
     "data": {
      "text/plain": [
       "<darts.models.forecasting.rnn_model.RNNModel at 0x7f342bdb0460>"
      ]
     },
     "execution_count": 11,
     "metadata": {},
     "output_type": "execute_result"
    }
   ],
   "source": [
    "np.random.seed(args.seed)\n",
    "\n",
    "if args.model == \"lstm\":\n",
    "    from my_agents.train_hyperparams.lstm import hyperparameters\n",
    "elif args.model == \"tcn\":\n",
    "    from my_agents.train_hyperparams.tcn import hyperparameters\n",
    "elif args.model == \"transformer\":\n",
    "    from my_agents.train_hyperparams.transformer import hyperparameters\n",
    "\n",
    "hyperparameters[\"random_state\"] = args.seed\n",
    "\n",
    "model = {\"lstm\" : RNNModel, \"tcn\" : TCNModel, \"transformer\" : TransformerModel}[args.model.lower()]\n",
    "# Generating time series\n",
    "train_series = preprocessed_t_series(args.n_samples)\n",
    "\n",
    "my_model = model(\n",
    "    likelihood=LaplaceLikelihood(),\n",
    "    **hyperparameters\n",
    ")\n",
    "\n",
    "my_model.fit(\n",
    "    train_series,\n",
    "    verbose=True,\n",
    ")\n"
   ]
  },
  {
   "cell_type": "code",
   "execution_count": 33,
   "metadata": {},
   "outputs": [
    {
     "name": "stderr",
     "output_type": "stream",
     "text": [
      "/home/cboettig/boettiger-lab/mee_tipping_point_forecasting/venv/lib/python3.8/site-packages/darts/timeseries.py:3305: FutureWarning: pandas.Int64Index is deprecated and will be removed from pandas in a future version. Use pandas.Index with the appropriate dtype instead.\n",
      "  if isinstance(time_idx, pd.Int64Index) and not isinstance(\n",
      "LOCAL_RANK: 0 - CUDA_VISIBLE_DEVICES: [0]\n"
     ]
    },
    {
     "name": "stdout",
     "output_type": "stream",
     "text": [
      "Predicting DataLoader 0: 100%|██████████| 1/1 [00:02<00:00, -0.79it/s]\n"
     ]
    },
    {
     "data": {
      "image/png": "[encoded data removed]",
      "text/plain": [
       "<Figure size 432x288 with 1 Axes>"
      ]
     },
     "metadata": {
      "needs_background": "light"
     },
     "output_type": "display_data"
    }
   ],
   "source": [
    "\n",
    "\n",
    "colors = [\"blue\", \"green\", \"orange\"]\n",
    "torch.manual_seed(args.seed)\n",
    "np.random.seed(args.seed)\n",
    "train_series = preprocessed_t_series(1)\n",
    "train_series[:25].plot(color=\"blue\", label='truth')\n",
    "t_series, v_series = train_series.split_before(25)\n",
    "t_dist = truth_dist(t_series, n_samples=100)\n",
    "t_dist[:75].plot(low_quantile=0.025, high_quantile=0.975, color=\"blue\", label=\"_nolegend_\", linestyle=\"dotted\")\n",
    "preds = my_model.predict(75, t_series, num_samples=10000)\n",
    "fig = preds.plot(low_quantile=0.025, high_quantile=0.975, linestyle=\"dotted\", color=\"orange\", label='prediction')\n"
   ]
  }
 ],
 "metadata": {
  "interpreter": {
   "hash": "8839ed2bc88c7148e461ae2c6b8d6615e6a9863753c316f97ad5f86c6cf5b52f"
  },
  "kernelspec": {
   "display_name": "Python 3.8.10 ('rl-tipping-points-2qgxynl5')",
   "language": "python",
   "name": "python3"
  },
  "language_info": {
   "codemirror_mode": {
    "name": "ipython",
    "version": 3
   },
   "file_extension": ".py",
   "mimetype": "text/x-python",
   "name": "python",
   "nbconvert_exporter": "python",
   "pygments_lexer": "ipython3",
   "version": "3.8.10"
  },
  "orig_nbformat": 4
 },
 "nbformat": 4,
 "nbformat_minor": 2
}
